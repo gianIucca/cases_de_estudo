{
 "cells": [
  {
   "cell_type": "markdown",
   "metadata": {},
   "source": [
    "# Case de estudo: Dados sobre turbinas eólicas na Turquia em 2018\n",
    "\n",
    "Fonte: https://www.kaggle.com/berkerisen/wind-turbine-scada-dataset\n"
   ]
  },
  {
   "cell_type": "markdown",
   "metadata": {},
   "source": [
    "## Importando Bibliotecas"
   ]
  },
  {
   "cell_type": "code",
   "execution_count": 56,
   "metadata": {},
   "outputs": [],
   "source": [
    "import pandas as pd\n",
    "import matplotlib.pyplot as plt\n",
    "from matplotlib.pyplot import figure\n",
    "import seaborn as sns\n",
    "import numpy as np\n",
    "from sklearn.model_selection import train_test_split\n",
    "from sklearn.preprocessing import StandardScaler\n",
    "from sklearn.pipeline import make_pipeline\n",
    "from sklearn.svm import SVR\n",
    "from sklearn.model_selection import cross_val_score\n",
    "from sklearn.metrics import mean_absolute_error\n",
    "from sklearn.metrics import mean_squared_error"
   ]
  },
  {
   "cell_type": "markdown",
   "metadata": {},
   "source": [
    "## Lendo o arquivo e renomeando as colunas para ficar mais fácil de escrever o código"
   ]
  },
  {
   "cell_type": "code",
   "execution_count": 6,
   "metadata": {},
   "outputs": [
    {
     "data": {
      "text/html": [
       "<div>\n",
       "<style scoped>\n",
       "    .dataframe tbody tr th:only-of-type {\n",
       "        vertical-align: middle;\n",
       "    }\n",
       "\n",
       "    .dataframe tbody tr th {\n",
       "        vertical-align: top;\n",
       "    }\n",
       "\n",
       "    .dataframe thead th {\n",
       "        text-align: right;\n",
       "    }\n",
       "</style>\n",
       "<table border=\"1\" class=\"dataframe\">\n",
       "  <thead>\n",
       "    <tr style=\"text-align: right;\">\n",
       "      <th></th>\n",
       "      <th>date</th>\n",
       "      <th>active_power</th>\n",
       "      <th>wind_speed</th>\n",
       "      <th>theoretical_power</th>\n",
       "      <th>wind_direction</th>\n",
       "    </tr>\n",
       "  </thead>\n",
       "  <tbody>\n",
       "    <tr>\n",
       "      <th>0</th>\n",
       "      <td>01 01 2018 00:00</td>\n",
       "      <td>380.047791</td>\n",
       "      <td>5.311336</td>\n",
       "      <td>416.328908</td>\n",
       "      <td>259.994904</td>\n",
       "    </tr>\n",
       "    <tr>\n",
       "      <th>1</th>\n",
       "      <td>01 01 2018 00:10</td>\n",
       "      <td>453.769196</td>\n",
       "      <td>5.672167</td>\n",
       "      <td>519.917511</td>\n",
       "      <td>268.641113</td>\n",
       "    </tr>\n",
       "    <tr>\n",
       "      <th>2</th>\n",
       "      <td>01 01 2018 00:20</td>\n",
       "      <td>306.376587</td>\n",
       "      <td>5.216037</td>\n",
       "      <td>390.900016</td>\n",
       "      <td>272.564789</td>\n",
       "    </tr>\n",
       "    <tr>\n",
       "      <th>3</th>\n",
       "      <td>01 01 2018 00:30</td>\n",
       "      <td>419.645905</td>\n",
       "      <td>5.659674</td>\n",
       "      <td>516.127569</td>\n",
       "      <td>271.258087</td>\n",
       "    </tr>\n",
       "    <tr>\n",
       "      <th>4</th>\n",
       "      <td>01 01 2018 00:40</td>\n",
       "      <td>380.650696</td>\n",
       "      <td>5.577941</td>\n",
       "      <td>491.702972</td>\n",
       "      <td>265.674286</td>\n",
       "    </tr>\n",
       "  </tbody>\n",
       "</table>\n",
       "</div>"
      ],
      "text/plain": [
       "               date  active_power  wind_speed  theoretical_power  \\\n",
       "0  01 01 2018 00:00    380.047791    5.311336         416.328908   \n",
       "1  01 01 2018 00:10    453.769196    5.672167         519.917511   \n",
       "2  01 01 2018 00:20    306.376587    5.216037         390.900016   \n",
       "3  01 01 2018 00:30    419.645905    5.659674         516.127569   \n",
       "4  01 01 2018 00:40    380.650696    5.577941         491.702972   \n",
       "\n",
       "   wind_direction  \n",
       "0      259.994904  \n",
       "1      268.641113  \n",
       "2      272.564789  \n",
       "3      271.258087  \n",
       "4      265.674286  "
      ]
     },
     "execution_count": 6,
     "metadata": {},
     "output_type": "execute_result"
    }
   ],
   "source": [
    "df = pd.read_csv('T1.csv')\n",
    "#df.head(10)\n",
    "#df.dtypes\n",
    "#df.describe()\n",
    "#df.info()\n",
    "\n",
    "df.columns = ['date', 'active_power', 'wind_speed', 'theoretical_power', 'wind_direction']\n",
    "df.head()"
   ]
  },
  {
   "cell_type": "markdown",
   "metadata": {},
   "source": [
    "## Convertendo a coluna Date/Time para o tipo datetime e colocando como index\n",
    "\n",
    "PS: isso se torna possível apenas porque pegamos dados de apenas uma turbina, então o registro de data pode ser usado como chave primária"
   ]
  },
  {
   "cell_type": "code",
   "execution_count": 7,
   "metadata": {},
   "outputs": [
    {
     "data": {
      "text/html": [
       "<div>\n",
       "<style scoped>\n",
       "    .dataframe tbody tr th:only-of-type {\n",
       "        vertical-align: middle;\n",
       "    }\n",
       "\n",
       "    .dataframe tbody tr th {\n",
       "        vertical-align: top;\n",
       "    }\n",
       "\n",
       "    .dataframe thead th {\n",
       "        text-align: right;\n",
       "    }\n",
       "</style>\n",
       "<table border=\"1\" class=\"dataframe\">\n",
       "  <thead>\n",
       "    <tr style=\"text-align: right;\">\n",
       "      <th></th>\n",
       "      <th>active_power</th>\n",
       "      <th>wind_speed</th>\n",
       "      <th>theoretical_power</th>\n",
       "      <th>wind_direction</th>\n",
       "    </tr>\n",
       "    <tr>\n",
       "      <th>date</th>\n",
       "      <th></th>\n",
       "      <th></th>\n",
       "      <th></th>\n",
       "      <th></th>\n",
       "    </tr>\n",
       "  </thead>\n",
       "  <tbody>\n",
       "    <tr>\n",
       "      <th>2018-01-01 00:00:00</th>\n",
       "      <td>380.047791</td>\n",
       "      <td>5.311336</td>\n",
       "      <td>416.328908</td>\n",
       "      <td>259.994904</td>\n",
       "    </tr>\n",
       "    <tr>\n",
       "      <th>2018-01-01 00:10:00</th>\n",
       "      <td>453.769196</td>\n",
       "      <td>5.672167</td>\n",
       "      <td>519.917511</td>\n",
       "      <td>268.641113</td>\n",
       "    </tr>\n",
       "    <tr>\n",
       "      <th>2018-01-01 00:20:00</th>\n",
       "      <td>306.376587</td>\n",
       "      <td>5.216037</td>\n",
       "      <td>390.900016</td>\n",
       "      <td>272.564789</td>\n",
       "    </tr>\n",
       "    <tr>\n",
       "      <th>2018-01-01 00:30:00</th>\n",
       "      <td>419.645905</td>\n",
       "      <td>5.659674</td>\n",
       "      <td>516.127569</td>\n",
       "      <td>271.258087</td>\n",
       "    </tr>\n",
       "    <tr>\n",
       "      <th>2018-01-01 00:40:00</th>\n",
       "      <td>380.650696</td>\n",
       "      <td>5.577941</td>\n",
       "      <td>491.702972</td>\n",
       "      <td>265.674286</td>\n",
       "    </tr>\n",
       "  </tbody>\n",
       "</table>\n",
       "</div>"
      ],
      "text/plain": [
       "                     active_power  wind_speed  theoretical_power  \\\n",
       "date                                                               \n",
       "2018-01-01 00:00:00    380.047791    5.311336         416.328908   \n",
       "2018-01-01 00:10:00    453.769196    5.672167         519.917511   \n",
       "2018-01-01 00:20:00    306.376587    5.216037         390.900016   \n",
       "2018-01-01 00:30:00    419.645905    5.659674         516.127569   \n",
       "2018-01-01 00:40:00    380.650696    5.577941         491.702972   \n",
       "\n",
       "                     wind_direction  \n",
       "date                                 \n",
       "2018-01-01 00:00:00      259.994904  \n",
       "2018-01-01 00:10:00      268.641113  \n",
       "2018-01-01 00:20:00      272.564789  \n",
       "2018-01-01 00:30:00      271.258087  \n",
       "2018-01-01 00:40:00      265.674286  "
      ]
     },
     "execution_count": 7,
     "metadata": {},
     "output_type": "execute_result"
    }
   ],
   "source": [
    "df['date'] = pd.to_datetime(df['date'])\n",
    "df.set_index('date', inplace=True)\n",
    "df.head()"
   ]
  },
  {
   "cell_type": "markdown",
   "metadata": {},
   "source": [
    "## Plotando gráfico de correlação entre as variáveis do dataframe"
   ]
  },
  {
   "cell_type": "code",
   "execution_count": 19,
   "metadata": {},
   "outputs": [
    {
     "data": {
      "text/plain": [
       "Text(0.5, 1.0, 'Correlation Heatmap')"
      ]
     },
     "execution_count": 19,
     "metadata": {},
     "output_type": "execute_result"
    },
    {
     "data": {
      "image/png": "[encoded data removed]",
      "text/plain": [
       "<Figure size 432x288 with 2 Axes>"
      ]
     },
     "metadata": {
      "needs_background": "light"
     },
     "output_type": "display_data"
    }
   ],
   "source": [
    "heatmap = sns.heatmap(df.corr(), vmin=-1, vmax=1, annot=True)\n",
    "heatmap.set_title('Correlation Heatmap')"
   ]
  },
  {
   "cell_type": "markdown",
   "metadata": {},
   "source": [
    "## Plotando gráfico de correlação com a variável potencia real"
   ]
  },
  {
   "cell_type": "code",
   "execution_count": 22,
   "metadata": {},
   "outputs": [
    {
     "data": {
      "image/png": "[encoded data removed]",
      "text/plain": [
       "<Figure size 576x864 with 2 Axes>"
      ]
     },
     "metadata": {
      "needs_background": "light"
     },
     "output_type": "display_data"
    }
   ],
   "source": [
    "df.corr()[['active_power']].sort_values(by='active_power', ascending=False)\n",
    "plt.figure(figsize=(8, 12))\n",
    "\n",
    "heatmap = sns.heatmap(df.corr()[['active_power']]\n",
    "                      .sort_values(by='active_power', ascending=False),\n",
    "                      vmin=-1, vmax=1, annot=True, cmap='BrBG')\n",
    "\n",
    "heatmap.set_title('Correlação com a potencia real', fontdict={'fontsize':18}, pad=16);"
   ]
  },
  {
   "cell_type": "markdown",
   "metadata": {},
   "source": [
    "## Plotando os dados da curva teórica vs curva real"
   ]
  },
  {
   "cell_type": "code",
   "execution_count": 23,
   "metadata": {
    "scrolled": true
   },
   "outputs": [
    {
     "data": {
      "text/plain": [
       "[Text(0.5, 0, 'Wind Speed(m/s)'), Text(0, 0.5, 'Power(kW)')]"
      ]
     },
     "execution_count": 23,
     "metadata": {},
     "output_type": "execute_result"
    },
    {
     "data": {
      "image/png": "[encoded data removed]",
      "text/plain": [
       "<Figure size 432x288 with 1 Axes>"
      ]
     },
     "metadata": {
      "needs_background": "light"
     },
     "output_type": "display_data"
    }
   ],
   "source": [
    "grafico = sns.scatterplot(data=df, x='wind_speed', y='active_power', label='Curva Real', s=14)\n",
    "grafico = sns.scatterplot(data=df, x='wind_speed', y='theoretical_power', label='Curva teórica', s=14)\n",
    "\n",
    "grafico.set(xlabel='Wind Speed(m/s)', ylabel='Power(kW)')"
   ]
  },
  {
   "cell_type": "markdown",
   "metadata": {},
   "source": [
    "## Criando \"limites aceitáveis\""
   ]
  },
  {
   "cell_type": "code",
   "execution_count": 24,
   "metadata": {},
   "outputs": [],
   "source": [
    "potencia_real= df['active_power'].tolist()\n",
    "potencia_teorica = df['theoretical_power'].tolist()\n",
    "potencia_max=[]\n",
    "potencia_min=[]\n",
    "dentro_limite = []\n",
    "\n",
    "for potencia in potencia_teorica:\n",
    "    potencia_max.append(potencia*1.05)\n",
    "    potencia_min.append(potencia*0.95)\n",
    "\n",
    "for indice, potencia in enumerate(potencia_real):\n",
    "    if potencia>=potencia_min[indice] and potencia<=potencia_max[indice]:\n",
    "        dentro_limite.append('Inside')\n",
    "    elif potencia==0:\n",
    "        dentro_limite.append('Zero')\n",
    "    else:\n",
    "        dentro_limite.append('Outside')\n",
    "    \n",
    "#print(dentro_limite.count('Inside')/len(dentro_limite))  #Output = 0.37, 37% está dentro do limite que determinamos\n",
    "\n",
    "#Agora criamos uma nova coluna no dataframe que diz se está dentro ou fora do nosso limite \n",
    "df['Inside_Limit'] = dentro_limite\n",
    "\n"
   ]
  },
  {
   "cell_type": "markdown",
   "metadata": {},
   "source": [
    "## Adicionando lista \"dentro_limite\" ao dataframe:"
   ]
  },
  {
   "cell_type": "code",
   "execution_count": 25,
   "metadata": {},
   "outputs": [
    {
     "data": {
      "text/html": [
       "<div>\n",
       "<style scoped>\n",
       "    .dataframe tbody tr th:only-of-type {\n",
       "        vertical-align: middle;\n",
       "    }\n",
       "\n",
       "    .dataframe tbody tr th {\n",
       "        vertical-align: top;\n",
       "    }\n",
       "\n",
       "    .dataframe thead th {\n",
       "        text-align: right;\n",
       "    }\n",
       "</style>\n",
       "<table border=\"1\" class=\"dataframe\">\n",
       "  <thead>\n",
       "    <tr style=\"text-align: right;\">\n",
       "      <th></th>\n",
       "      <th>active_power</th>\n",
       "      <th>wind_speed</th>\n",
       "      <th>theoretical_power</th>\n",
       "      <th>wind_direction</th>\n",
       "      <th>hour</th>\n",
       "      <th>month</th>\n",
       "      <th>Inside_Limit</th>\n",
       "    </tr>\n",
       "    <tr>\n",
       "      <th>date</th>\n",
       "      <th></th>\n",
       "      <th></th>\n",
       "      <th></th>\n",
       "      <th></th>\n",
       "      <th></th>\n",
       "      <th></th>\n",
       "      <th></th>\n",
       "    </tr>\n",
       "  </thead>\n",
       "  <tbody>\n",
       "    <tr>\n",
       "      <th>2018-01-01 00:00:00</th>\n",
       "      <td>380.047791</td>\n",
       "      <td>5.311336</td>\n",
       "      <td>416.328908</td>\n",
       "      <td>259.994904</td>\n",
       "      <td>0</td>\n",
       "      <td>1</td>\n",
       "      <td>Outside</td>\n",
       "    </tr>\n",
       "    <tr>\n",
       "      <th>2018-01-01 00:10:00</th>\n",
       "      <td>453.769196</td>\n",
       "      <td>5.672167</td>\n",
       "      <td>519.917511</td>\n",
       "      <td>268.641113</td>\n",
       "      <td>0</td>\n",
       "      <td>1</td>\n",
       "      <td>Outside</td>\n",
       "    </tr>\n",
       "    <tr>\n",
       "      <th>2018-01-01 00:20:00</th>\n",
       "      <td>306.376587</td>\n",
       "      <td>5.216037</td>\n",
       "      <td>390.900016</td>\n",
       "      <td>272.564789</td>\n",
       "      <td>0</td>\n",
       "      <td>1</td>\n",
       "      <td>Outside</td>\n",
       "    </tr>\n",
       "    <tr>\n",
       "      <th>2018-01-01 00:30:00</th>\n",
       "      <td>419.645905</td>\n",
       "      <td>5.659674</td>\n",
       "      <td>516.127569</td>\n",
       "      <td>271.258087</td>\n",
       "      <td>0</td>\n",
       "      <td>1</td>\n",
       "      <td>Outside</td>\n",
       "    </tr>\n",
       "    <tr>\n",
       "      <th>2018-01-01 00:40:00</th>\n",
       "      <td>380.650696</td>\n",
       "      <td>5.577941</td>\n",
       "      <td>491.702972</td>\n",
       "      <td>265.674286</td>\n",
       "      <td>0</td>\n",
       "      <td>1</td>\n",
       "      <td>Outside</td>\n",
       "    </tr>\n",
       "    <tr>\n",
       "      <th>...</th>\n",
       "      <td>...</td>\n",
       "      <td>...</td>\n",
       "      <td>...</td>\n",
       "      <td>...</td>\n",
       "      <td>...</td>\n",
       "      <td>...</td>\n",
       "      <td>...</td>\n",
       "    </tr>\n",
       "    <tr>\n",
       "      <th>2018-12-31 23:10:00</th>\n",
       "      <td>2963.980957</td>\n",
       "      <td>11.404030</td>\n",
       "      <td>3397.190793</td>\n",
       "      <td>80.502724</td>\n",
       "      <td>23</td>\n",
       "      <td>12</td>\n",
       "      <td>Outside</td>\n",
       "    </tr>\n",
       "    <tr>\n",
       "      <th>2018-12-31 23:20:00</th>\n",
       "      <td>1684.353027</td>\n",
       "      <td>7.332648</td>\n",
       "      <td>1173.055771</td>\n",
       "      <td>84.062599</td>\n",
       "      <td>23</td>\n",
       "      <td>12</td>\n",
       "      <td>Outside</td>\n",
       "    </tr>\n",
       "    <tr>\n",
       "      <th>2018-12-31 23:30:00</th>\n",
       "      <td>2201.106934</td>\n",
       "      <td>8.435358</td>\n",
       "      <td>1788.284755</td>\n",
       "      <td>84.742500</td>\n",
       "      <td>23</td>\n",
       "      <td>12</td>\n",
       "      <td>Outside</td>\n",
       "    </tr>\n",
       "    <tr>\n",
       "      <th>2018-12-31 23:40:00</th>\n",
       "      <td>2515.694092</td>\n",
       "      <td>9.421366</td>\n",
       "      <td>2418.382503</td>\n",
       "      <td>84.297913</td>\n",
       "      <td>23</td>\n",
       "      <td>12</td>\n",
       "      <td>Inside</td>\n",
       "    </tr>\n",
       "    <tr>\n",
       "      <th>2018-12-31 23:50:00</th>\n",
       "      <td>2820.466064</td>\n",
       "      <td>9.979332</td>\n",
       "      <td>2779.184096</td>\n",
       "      <td>82.274620</td>\n",
       "      <td>23</td>\n",
       "      <td>12</td>\n",
       "      <td>Inside</td>\n",
       "    </tr>\n",
       "  </tbody>\n",
       "</table>\n",
       "<p>50530 rows × 7 columns</p>\n",
       "</div>"
      ],
      "text/plain": [
       "                     active_power  wind_speed  theoretical_power  \\\n",
       "date                                                               \n",
       "2018-01-01 00:00:00    380.047791    5.311336         416.328908   \n",
       "2018-01-01 00:10:00    453.769196    5.672167         519.917511   \n",
       "2018-01-01 00:20:00    306.376587    5.216037         390.900016   \n",
       "2018-01-01 00:30:00    419.645905    5.659674         516.127569   \n",
       "2018-01-01 00:40:00    380.650696    5.577941         491.702972   \n",
       "...                           ...         ...                ...   \n",
       "2018-12-31 23:10:00   2963.980957   11.404030        3397.190793   \n",
       "2018-12-31 23:20:00   1684.353027    7.332648        1173.055771   \n",
       "2018-12-31 23:30:00   2201.106934    8.435358        1788.284755   \n",
       "2018-12-31 23:40:00   2515.694092    9.421366        2418.382503   \n",
       "2018-12-31 23:50:00   2820.466064    9.979332        2779.184096   \n",
       "\n",
       "                     wind_direction  hour  month Inside_Limit  \n",
       "date                                                           \n",
       "2018-01-01 00:00:00      259.994904     0      1      Outside  \n",
       "2018-01-01 00:10:00      268.641113     0      1      Outside  \n",
       "2018-01-01 00:20:00      272.564789     0      1      Outside  \n",
       "2018-01-01 00:30:00      271.258087     0      1      Outside  \n",
       "2018-01-01 00:40:00      265.674286     0      1      Outside  \n",
       "...                             ...   ...    ...          ...  \n",
       "2018-12-31 23:10:00       80.502724    23     12      Outside  \n",
       "2018-12-31 23:20:00       84.062599    23     12      Outside  \n",
       "2018-12-31 23:30:00       84.742500    23     12      Outside  \n",
       "2018-12-31 23:40:00       84.297913    23     12       Inside  \n",
       "2018-12-31 23:50:00       82.274620    23     12       Inside  \n",
       "\n",
       "[50530 rows x 7 columns]"
      ]
     },
     "metadata": {},
     "output_type": "display_data"
    }
   ],
   "source": [
    "df['Inside_Limit'] = dentro_limite \n",
    "display(df)"
   ]
  },
  {
   "cell_type": "markdown",
   "metadata": {},
   "source": [
    "## Plotando o gráfico com os limites:"
   ]
  },
  {
   "cell_type": "code",
   "execution_count": 28,
   "metadata": {},
   "outputs": [
    {
     "data": {
      "image/png": "[encoded data removed]",
      "text/plain": [
       "<Figure size 432x288 with 1 Axes>"
      ]
     },
     "metadata": {
      "needs_background": "light"
     },
     "output_type": "display_data"
    }
   ],
   "source": [
    "cores = {'Inside':'blue','Outside':'red','Zero':'green'}\n",
    "grafico = sns.scatterplot(data=df, x='wind_speed', y='active_power',hue='Inside_Limit', s=1, palette=cores)"
   ]
  },
  {
   "cell_type": "markdown",
   "metadata": {},
   "source": [
    "## Plotando o gráfico de energia real por cada hora do dia"
   ]
  },
  {
   "cell_type": "code",
   "execution_count": 10,
   "metadata": {},
   "outputs": [
    {
     "data": {
      "text/plain": [
       "<AxesSubplot:title={'center':'Average of Active Power of each hours'}, xlabel='hour'>"
      ]
     },
     "execution_count": 10,
     "metadata": {},
     "output_type": "execute_result"
    },
    {
     "data": {
      "image/png": "[encoded data removed]",
      "text/plain": [
       "<Figure size 432x288 with 1 Axes>"
      ]
     },
     "metadata": {
      "needs_background": "light"
     },
     "output_type": "display_data"
    }
   ],
   "source": [
    "dates = df.index\n",
    "hours = [date.hour for date in dates]\n",
    "df['hour'] = hours\n",
    "\n",
    "df.groupby('hour').mean().active_power.plot(kind='bar', title='Average of Active Power of each hours')"
   ]
  },
  {
   "cell_type": "markdown",
   "metadata": {},
   "source": [
    "## Plotando o gráfico de energia real por cada mes do ano"
   ]
  },
  {
   "cell_type": "code",
   "execution_count": 13,
   "metadata": {},
   "outputs": [
    {
     "data": {
      "text/plain": [
       "<AxesSubplot:title={'center':'Average of Active Power of each month'}, xlabel='month'>"
      ]
     },
     "execution_count": 13,
     "metadata": {},
     "output_type": "execute_result"
    },
    {
     "data": {
      "image/png": "[encoded data removed]",
      "text/plain": [
       "<Figure size 432x288 with 1 Axes>"
      ]
     },
     "metadata": {
      "needs_background": "light"
     },
     "output_type": "display_data"
    }
   ],
   "source": [
    "months = [date.month for date in df.index]\n",
    "df['month'] = months\n",
    "\n",
    "df.groupby('month').mean().active_power.plot(kind='bar', title='Average of Active Power of each month')"
   ]
  },
  {
   "cell_type": "markdown",
   "metadata": {},
   "source": [
    "## Plotando o mesmo gráfico, mas adicionando cores para os meses com mais/menos energia"
   ]
  },
  {
   "cell_type": "code",
   "execution_count": 18,
   "metadata": {
    "scrolled": true
   },
   "outputs": [
    {
     "data": {
      "text/plain": [
       "Text(0, 0.5, 'Active Power(kW)')"
      ]
     },
     "execution_count": 18,
     "metadata": {},
     "output_type": "execute_result"
    },
    {
     "data": {
      "image/png": "[encoded data removed]",
      "text/plain": [
       "<Figure size 432x288 with 1 Axes>"
      ]
     },
     "metadata": {
      "needs_background": "light"
     },
     "output_type": "display_data"
    }
   ],
   "source": [
    "color = list(np.full(12, 'grey'))\n",
    "color[2], color[10] = 'green', 'green'\n",
    "color[6] = 'red'\n",
    "\n",
    "df.groupby('month').mean().active_power.plot(kind='bar', title='Average of Active Power of each month', \n",
    "                                            color=color, rot=0)\n",
    "plt.ylabel('Active Power(kW)')"
   ]
  },
  {
   "cell_type": "markdown",
   "metadata": {},
   "source": [
    "## Criando uma coluna da perda de energia (valor teórico - valor real)"
   ]
  },
  {
   "cell_type": "code",
   "execution_count": 29,
   "metadata": {},
   "outputs": [
    {
     "data": {
      "text/html": [
       "<div>\n",
       "<style scoped>\n",
       "    .dataframe tbody tr th:only-of-type {\n",
       "        vertical-align: middle;\n",
       "    }\n",
       "\n",
       "    .dataframe tbody tr th {\n",
       "        vertical-align: top;\n",
       "    }\n",
       "\n",
       "    .dataframe thead th {\n",
       "        text-align: right;\n",
       "    }\n",
       "</style>\n",
       "<table border=\"1\" class=\"dataframe\">\n",
       "  <thead>\n",
       "    <tr style=\"text-align: right;\">\n",
       "      <th></th>\n",
       "      <th>active_power</th>\n",
       "      <th>wind_speed</th>\n",
       "      <th>theoretical_power</th>\n",
       "      <th>wind_direction</th>\n",
       "      <th>hour</th>\n",
       "      <th>month</th>\n",
       "      <th>Inside_Limit</th>\n",
       "      <th>loss</th>\n",
       "    </tr>\n",
       "    <tr>\n",
       "      <th>date</th>\n",
       "      <th></th>\n",
       "      <th></th>\n",
       "      <th></th>\n",
       "      <th></th>\n",
       "      <th></th>\n",
       "      <th></th>\n",
       "      <th></th>\n",
       "      <th></th>\n",
       "    </tr>\n",
       "  </thead>\n",
       "  <tbody>\n",
       "    <tr>\n",
       "      <th>2018-01-01 00:00:00</th>\n",
       "      <td>380.047791</td>\n",
       "      <td>5.311336</td>\n",
       "      <td>416.328908</td>\n",
       "      <td>259.994904</td>\n",
       "      <td>0</td>\n",
       "      <td>1</td>\n",
       "      <td>Outside</td>\n",
       "      <td>36.281117</td>\n",
       "    </tr>\n",
       "    <tr>\n",
       "      <th>2018-01-01 00:10:00</th>\n",
       "      <td>453.769196</td>\n",
       "      <td>5.672167</td>\n",
       "      <td>519.917511</td>\n",
       "      <td>268.641113</td>\n",
       "      <td>0</td>\n",
       "      <td>1</td>\n",
       "      <td>Outside</td>\n",
       "      <td>66.148316</td>\n",
       "    </tr>\n",
       "    <tr>\n",
       "      <th>2018-01-01 00:20:00</th>\n",
       "      <td>306.376587</td>\n",
       "      <td>5.216037</td>\n",
       "      <td>390.900016</td>\n",
       "      <td>272.564789</td>\n",
       "      <td>0</td>\n",
       "      <td>1</td>\n",
       "      <td>Outside</td>\n",
       "      <td>84.523429</td>\n",
       "    </tr>\n",
       "    <tr>\n",
       "      <th>2018-01-01 00:30:00</th>\n",
       "      <td>419.645905</td>\n",
       "      <td>5.659674</td>\n",
       "      <td>516.127569</td>\n",
       "      <td>271.258087</td>\n",
       "      <td>0</td>\n",
       "      <td>1</td>\n",
       "      <td>Outside</td>\n",
       "      <td>96.481664</td>\n",
       "    </tr>\n",
       "    <tr>\n",
       "      <th>2018-01-01 00:40:00</th>\n",
       "      <td>380.650696</td>\n",
       "      <td>5.577941</td>\n",
       "      <td>491.702972</td>\n",
       "      <td>265.674286</td>\n",
       "      <td>0</td>\n",
       "      <td>1</td>\n",
       "      <td>Outside</td>\n",
       "      <td>111.052276</td>\n",
       "    </tr>\n",
       "  </tbody>\n",
       "</table>\n",
       "</div>"
      ],
      "text/plain": [
       "                     active_power  wind_speed  theoretical_power  \\\n",
       "date                                                               \n",
       "2018-01-01 00:00:00    380.047791    5.311336         416.328908   \n",
       "2018-01-01 00:10:00    453.769196    5.672167         519.917511   \n",
       "2018-01-01 00:20:00    306.376587    5.216037         390.900016   \n",
       "2018-01-01 00:30:00    419.645905    5.659674         516.127569   \n",
       "2018-01-01 00:40:00    380.650696    5.577941         491.702972   \n",
       "\n",
       "                     wind_direction  hour  month Inside_Limit        loss  \n",
       "date                                                                       \n",
       "2018-01-01 00:00:00      259.994904     0      1      Outside   36.281117  \n",
       "2018-01-01 00:10:00      268.641113     0      1      Outside   66.148316  \n",
       "2018-01-01 00:20:00      272.564789     0      1      Outside   84.523429  \n",
       "2018-01-01 00:30:00      271.258087     0      1      Outside   96.481664  \n",
       "2018-01-01 00:40:00      265.674286     0      1      Outside  111.052276  "
      ]
     },
     "execution_count": 29,
     "metadata": {},
     "output_type": "execute_result"
    }
   ],
   "source": [
    "df['loss'] = df['theoretical_power'] - df['active_power']\n",
    "df.head()"
   ]
  },
  {
   "cell_type": "markdown",
   "metadata": {},
   "source": [
    "## Criando uma coluna para mostrar qual a direção que está o vento\n",
    "\n",
    "Com isso poderemos investigar qual é o fator que o vento tem sobre a perda de energia"
   ]
  },
  {
   "cell_type": "code",
   "execution_count": null,
   "metadata": {},
   "outputs": [],
   "source": [
    "#Primeiro criamos uma função que irá retornar em qual direção está o vento com base no wind_direction\n",
    "def direction(x):\n",
    "    if x > 348.75 or x < 11.25 : return 'N'\n",
    "    if x < 33.75: return 'NNE'\n",
    "    if x < 56.25: return 'NE'\n",
    "    if x < 78.75: return 'ENE'\n",
    "    if x < 101.25: return 'E'\n",
    "    if x < 123.75: return 'ESE'\n",
    "    if x < 146.25: return 'SE'\n",
    "    if x < 168.75: return 'SSE'\n",
    "    if x < 191.25: return 'S'\n",
    "    if x < 213.75: return 'SSW'\n",
    "    if x < 236.25: return 'SW'\n",
    "    if x < 258.75: return 'WSW'\n",
    "    if x < 281.25: return 'W'\n",
    "    if x < 303.75: return 'WNW'\n",
    "    if x < 326.25: return 'NW'\n",
    "    else: return 'NNW'\n",
    "\n",
    "df['direction'] = df['wind_direction'].apply(direction)\n",
    "df.groupby('direction').loss.sum().sort_values(ascending=False).plot(kind='bar', title='Total Power Loss(kWh)')"
   ]
  },
  {
   "cell_type": "markdown",
   "metadata": {},
   "source": [
    "## Preparação para o modelo de Machine Learning - Data Wrangling"
   ]
  },
  {
   "cell_type": "code",
   "execution_count": 37,
   "metadata": {
    "scrolled": true
   },
   "outputs": [
    {
     "data": {
      "text/html": [
       "<div>\n",
       "<style scoped>\n",
       "    .dataframe tbody tr th:only-of-type {\n",
       "        vertical-align: middle;\n",
       "    }\n",
       "\n",
       "    .dataframe tbody tr th {\n",
       "        vertical-align: top;\n",
       "    }\n",
       "\n",
       "    .dataframe thead th {\n",
       "        text-align: right;\n",
       "    }\n",
       "</style>\n",
       "<table border=\"1\" class=\"dataframe\">\n",
       "  <thead>\n",
       "    <tr style=\"text-align: right;\">\n",
       "      <th></th>\n",
       "      <th>active_power</th>\n",
       "      <th>wind_speed</th>\n",
       "      <th>theoretical_power</th>\n",
       "      <th>wind_direction</th>\n",
       "      <th>hour</th>\n",
       "      <th>month</th>\n",
       "      <th>Inside_Limit</th>\n",
       "      <th>loss</th>\n",
       "      <th>direction</th>\n",
       "    </tr>\n",
       "    <tr>\n",
       "      <th>date</th>\n",
       "      <th></th>\n",
       "      <th></th>\n",
       "      <th></th>\n",
       "      <th></th>\n",
       "      <th></th>\n",
       "      <th></th>\n",
       "      <th></th>\n",
       "      <th></th>\n",
       "      <th></th>\n",
       "    </tr>\n",
       "  </thead>\n",
       "  <tbody>\n",
       "    <tr>\n",
       "      <th>2018-01-01 00:00:00</th>\n",
       "      <td>380.047791</td>\n",
       "      <td>5.311336</td>\n",
       "      <td>416.328908</td>\n",
       "      <td>259.994904</td>\n",
       "      <td>0</td>\n",
       "      <td>1</td>\n",
       "      <td>Outside</td>\n",
       "      <td>36.281117</td>\n",
       "      <td>W</td>\n",
       "    </tr>\n",
       "    <tr>\n",
       "      <th>2018-01-01 00:10:00</th>\n",
       "      <td>453.769196</td>\n",
       "      <td>5.672167</td>\n",
       "      <td>519.917511</td>\n",
       "      <td>268.641113</td>\n",
       "      <td>0</td>\n",
       "      <td>1</td>\n",
       "      <td>Outside</td>\n",
       "      <td>66.148316</td>\n",
       "      <td>W</td>\n",
       "    </tr>\n",
       "    <tr>\n",
       "      <th>2018-01-01 00:20:00</th>\n",
       "      <td>306.376587</td>\n",
       "      <td>5.216037</td>\n",
       "      <td>390.900016</td>\n",
       "      <td>272.564789</td>\n",
       "      <td>0</td>\n",
       "      <td>1</td>\n",
       "      <td>Outside</td>\n",
       "      <td>84.523429</td>\n",
       "      <td>W</td>\n",
       "    </tr>\n",
       "    <tr>\n",
       "      <th>2018-01-01 00:30:00</th>\n",
       "      <td>419.645905</td>\n",
       "      <td>5.659674</td>\n",
       "      <td>516.127569</td>\n",
       "      <td>271.258087</td>\n",
       "      <td>0</td>\n",
       "      <td>1</td>\n",
       "      <td>Outside</td>\n",
       "      <td>96.481664</td>\n",
       "      <td>W</td>\n",
       "    </tr>\n",
       "    <tr>\n",
       "      <th>2018-01-01 00:40:00</th>\n",
       "      <td>380.650696</td>\n",
       "      <td>5.577941</td>\n",
       "      <td>491.702972</td>\n",
       "      <td>265.674286</td>\n",
       "      <td>0</td>\n",
       "      <td>1</td>\n",
       "      <td>Outside</td>\n",
       "      <td>111.052276</td>\n",
       "      <td>W</td>\n",
       "    </tr>\n",
       "  </tbody>\n",
       "</table>\n",
       "</div>"
      ],
      "text/plain": [
       "                     active_power  wind_speed  theoretical_power  \\\n",
       "date                                                               \n",
       "2018-01-01 00:00:00    380.047791    5.311336         416.328908   \n",
       "2018-01-01 00:10:00    453.769196    5.672167         519.917511   \n",
       "2018-01-01 00:20:00    306.376587    5.216037         390.900016   \n",
       "2018-01-01 00:30:00    419.645905    5.659674         516.127569   \n",
       "2018-01-01 00:40:00    380.650696    5.577941         491.702972   \n",
       "\n",
       "                     wind_direction  hour  month Inside_Limit        loss  \\\n",
       "date                                                                        \n",
       "2018-01-01 00:00:00      259.994904     0      1      Outside   36.281117   \n",
       "2018-01-01 00:10:00      268.641113     0      1      Outside   66.148316   \n",
       "2018-01-01 00:20:00      272.564789     0      1      Outside   84.523429   \n",
       "2018-01-01 00:30:00      271.258087     0      1      Outside   96.481664   \n",
       "2018-01-01 00:40:00      265.674286     0      1      Outside  111.052276   \n",
       "\n",
       "                    direction  \n",
       "date                           \n",
       "2018-01-01 00:00:00         W  \n",
       "2018-01-01 00:10:00         W  \n",
       "2018-01-01 00:20:00         W  \n",
       "2018-01-01 00:30:00         W  \n",
       "2018-01-01 00:40:00         W  "
      ]
     },
     "execution_count": 37,
     "metadata": {},
     "output_type": "execute_result"
    }
   ],
   "source": [
    "df_model = df.copy()\n",
    "df_model.head()"
   ]
  },
  {
   "cell_type": "markdown",
   "metadata": {},
   "source": [
    "## Limpeza dos dados\n",
    "Primeira limpeza será das linhas que possuem um active_power negativo, o que é possível e normal na fisica, onde é possível se ter uma energia negativa por causa do atrito, mas como nós não iremos predizer os valores negativos de energia, podemos remover eles dos dados\n",
    "\n",
    "Também iremos remover as linhas aonde o wind_speed é maior que 3m/s (o suficiente para gerar energia) e o active_power é 0, visto que esses valores podem representar momentos onde a turbina está parada para manutenção, ou algum outro motivo que irá atrapalhar o nosso modelo de ML"
   ]
  },
  {
   "cell_type": "code",
   "execution_count": 42,
   "metadata": {},
   "outputs": [
    {
     "name": "stdout",
     "output_type": "stream",
     "text": [
      "12115\n"
     ]
    },
    {
     "name": "stderr",
     "output_type": "stream",
     "text": [
      "<ipython-input-42-6a3e5f20d4e1>:3: UserWarning: Boolean Series key will be reindexed to match DataFrame index.\n",
      "  df_model = df_model[(df_model.wind_speed >= 3.5) & (df.theoretical_power != 0) & (df.active_power != 0)]\n"
     ]
    }
   ],
   "source": [
    "df_model = df_model[df_model.active_power > 0]\n",
    "\n",
    "df_model = df_model[(df_model.wind_speed >= 3.5) & (df.theoretical_power != 0) & (df.active_power != 0)]\n",
    "\n",
    "#Utilizamos o describe para validar as mudanças que realizamos\n",
    "df_model.describe()\n",
    "\n",
    "#Também é possível validar as mudanças vendo a diferença do número de linhas antes e depois do código \n",
    "number_of_rows_after = len(df_model.index)\n",
    "number_of_rows_before = len(df.index)\n",
    "#print(number_of_rows_before - number_of_rows_after) #Output = 12115"
   ]
  },
  {
   "cell_type": "markdown",
   "metadata": {},
   "source": [
    "## Construção do modelo SVM (Support Vector Machine)\n",
    "O primeiro modelo será desenvolvido sem levar em conta o fator de tempo em cima das turbinas, iremos investigar se existe uma boa função matemática para verificar a energia real da turbina com base na direção do vento(wind_direction) e na velocidade do vento(wind_speed)"
   ]
  },
  {
   "cell_type": "code",
   "execution_count": 50,
   "metadata": {},
   "outputs": [
    {
     "name": "stdout",
     "output_type": "stream",
     "text": [
      "[0.93799174 0.93968938 0.9344764  0.93593688 0.94096427]\n",
      "0.9378117342582002\n"
     ]
    }
   ],
   "source": [
    "#Separamos as nossas features e o nosso target\n",
    "X = df_model[['wind_direction', 'wind_speed']]\n",
    "y = df_model['active_power']\n",
    "\n",
    "#Separamos os dados em treino e teste\n",
    "X_train, X_test, y_train, y_test = train_test_split(X, y, test_size=0.25, random_state=42)\n",
    "\n",
    "#Criamos a pipeline \n",
    "pipe = make_pipeline(StandardScaler(), SVR())\n",
    "\n",
    "r2_cv = cross_val_score(pipe, X_train, y_train, cv=5)\n",
    "print(r2_cv)\n",
    "print(np.mean(r2_cv))"
   ]
  },
  {
   "cell_type": "code",
   "execution_count": 57,
   "metadata": {},
   "outputs": [
    {
     "name": "stdout",
     "output_type": "stream",
     "text": [
      "Train R2: 0.9424778369494117\n",
      "Test R2: 0.9433690530798207\n",
      "Test MAE: 156.06724587767155\n",
      "Test MSE: 87636.53317823405\n"
     ]
    }
   ],
   "source": [
    "pipe.fit(X_train, y_train)\n",
    "\n",
    "y_pred = pipe.predict(X_test)\n",
    "\n",
    "# Train R2\n",
    "print(f'Train R2: {pipe.score(X_train, y_train)}')\n",
    "\n",
    "# Test R2, MSE, MAE\n",
    "print(f'Test R2: {pipe.score(X_test, y_test)}')\n",
    "print(f'Test MAE: {mean_absolute_error(y_test, y_pred)}')\n",
    "print(f'Test MSE: {mean_squared_error(y_test, y_pred)}')"
   ]
  },
  {
   "cell_type": "markdown",
   "metadata": {},
   "source": [
    "## Conclusão\n",
    "\n",
    ".A média da energia gerada é maior em Março e Novembro, e é substancialmente menor em Julho, isso pode ser causado pelas condições climáticas, mas seria necessário investigar mais a fundo para aceitarmos ou rejeitarmos essa hipótese. <br>\n",
    ".A velocidade de vento mínima para produzir energia é de 3m/s, porém existem momentos quando a turbina gera energia mesmo com a velocidade do vento menor que 3m/s <br>\n",
    "."
   ]
  }
 ],
 "metadata": {
  "kernelspec": {
   "display_name": "Python 3",
   "language": "python",
   "name": "python3"
  },
  "language_info": {
   "codemirror_mode": {
    "name": "ipython",
    "version": 3
   },
   "file_extension": ".py",
   "mimetype": "text/x-python",
   "name": "python",
   "nbconvert_exporter": "python",
   "pygments_lexer": "ipython3",
   "version": "3.8.8"
  }
 },
 "nbformat": 4,
 "nbformat_minor": 4
}
